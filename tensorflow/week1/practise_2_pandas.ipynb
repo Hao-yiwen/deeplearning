{
 "cells": [
  {
   "cell_type": "markdown",
   "metadata": {},
   "source": [
    "# pandas"
   ]
  },
  {
   "cell_type": "code",
   "execution_count": 2,
   "metadata": {},
   "outputs": [],
   "source": [
    "import os\n",
    "\n",
    "os.makedirs(os.path.join(\"..\", \"data\"), exist_ok=True)"
   ]
  },
  {
   "cell_type": "code",
   "execution_count": 3,
   "metadata": {},
   "outputs": [],
   "source": [
    "data_file = os.path.join(\"..\", \"data\", \"house_tiny.csv\")"
   ]
  },
  {
   "cell_type": "code",
   "execution_count": 8,
   "metadata": {},
   "outputs": [],
   "source": [
    "with open(data_file, \"w\") as f:\n",
    "    f.write(\"numRooms,Alley,Price\\n\")\n",
    "    f.write(\"NA,price,127500\\n\")\n",
    "    f.write(\"2,NA,10600\\n\")\n",
    "    f.write(\"4,NA,178100\\n\")\n",
    "    f.write(\"NA,NA,14000\\n\")"
   ]
  },
  {
   "cell_type": "code",
   "execution_count": 10,
   "metadata": {},
   "outputs": [],
   "source": [
    "import pandas as pd"
   ]
  },
  {
   "cell_type": "code",
   "execution_count": 11,
   "metadata": {},
   "outputs": [],
   "source": [
    "import numpy as np\n",
    "\n",
    "# 创建数组\n",
    "arr = np.array([[1, 2, 3],\n",
    "                [4, 5, 6]])\n",
    "\n",
    "# 保存为.npy文件\n",
    "np.save('array.npy', arr)"
   ]
  },
  {
   "cell_type": "code",
   "execution_count": 12,
   "metadata": {},
   "outputs": [
    {
     "name": "stdout",
     "output_type": "stream",
     "text": [
      "   numRooms  Alley   Price\n",
      "0       NaN  price  127500\n",
      "1       2.0    NaN   10600\n",
      "2       4.0    NaN  178100\n",
      "3       NaN    NaN   14000\n"
     ]
    }
   ],
   "source": [
    "data = pd.read_csv(data_file)\n",
    "print(data)"
   ]
  },
  {
   "cell_type": "code",
   "execution_count": 15,
   "metadata": {},
   "outputs": [
    {
     "name": "stdout",
     "output_type": "stream",
     "text": [
      "   numRooms  Alley\n",
      "0       NaN  price\n",
      "1       2.0    NaN\n",
      "2       4.0    NaN\n",
      "3       NaN    NaN \n",
      "\n",
      " 0    127500\n",
      "1     10600\n",
      "2    178100\n",
      "3     14000\n",
      "Name: Price, dtype: int64\n"
     ]
    }
   ],
   "source": [
    "inputs, outputs = data.iloc[:, 0:2], data.iloc[:,2]\n",
    "print(inputs,\"\\n\\n\", outputs)"
   ]
  },
  {
   "cell_type": "code",
   "execution_count": 28,
   "metadata": {},
   "outputs": [
    {
     "name": "stdout",
     "output_type": "stream",
     "text": [
      "   numRooms  Alley\n",
      "0       3.0  price\n",
      "1       2.0    NaN\n",
      "2       4.0    NaN\n",
      "3       3.0    NaN\n"
     ]
    }
   ],
   "source": [
    "inputs, outputs = data.iloc[:, 0:2], data.iloc[:, 2]\n",
    "# 修改这行：使用正确的 pandas 索引方式\n",
    "inputs['numRooms'] = inputs['numRooms'].fillna(inputs['numRooms'].mean())\n",
    "print(inputs)"
   ]
  },
  {
   "cell_type": "code",
   "execution_count": 29,
   "metadata": {},
   "outputs": [
    {
     "name": "stdout",
     "output_type": "stream",
     "text": [
      "   numRooms  Alley_price  Alley_nan\n",
      "0       3.0         True      False\n",
      "1       2.0        False       True\n",
      "2       4.0        False       True\n",
      "3       3.0        False       True\n"
     ]
    }
   ],
   "source": [
    "inputs = pd.get_dummies(inputs, dummy_na=True)\n",
    "print(inputs)"
   ]
  },
  {
   "cell_type": "code",
   "execution_count": 30,
   "metadata": {},
   "outputs": [],
   "source": [
    "import tensorflow as tf\n",
    "X = tf.constant(inputs.to_numpy(dtype=float))"
   ]
  },
  {
   "cell_type": "code",
   "execution_count": 31,
   "metadata": {},
   "outputs": [],
   "source": [
    "y = tf.constant(outputs.to_numpy(dtype=float))"
   ]
  },
  {
   "cell_type": "code",
   "execution_count": 32,
   "metadata": {},
   "outputs": [
    {
     "data": {
      "text/plain": [
       "(<tf.Tensor: shape=(4, 3), dtype=float64, numpy=\n",
       " array([[3., 1., 0.],\n",
       "        [2., 0., 1.],\n",
       "        [4., 0., 1.],\n",
       "        [3., 0., 1.]])>,\n",
       " <tf.Tensor: shape=(4,), dtype=float64, numpy=array([127500.,  10600., 178100.,  14000.])>)"
      ]
     },
     "execution_count": 32,
     "metadata": {},
     "output_type": "execute_result"
    }
   ],
   "source": [
    "X,y"
   ]
  },
  {
   "cell_type": "code",
   "execution_count": 45,
   "metadata": {},
   "outputs": [],
   "source": [
    "data = pd.read_csv(data_file)"
   ]
  },
  {
   "cell_type": "code",
   "execution_count": 38,
   "metadata": {},
   "outputs": [
    {
     "name": "stdout",
     "output_type": "stream",
     "text": [
      "Column name: numRooms\n",
      "0    NaN\n",
      "1    2.0\n",
      "2    4.0\n",
      "3    NaN\n",
      "Name: numRooms, dtype: float64\n",
      "Column name: Alley\n",
      "0    price\n",
      "1      NaN\n",
      "2      NaN\n",
      "3      NaN\n",
      "Name: Alley, dtype: object\n",
      "Column name: Price\n",
      "0    127500\n",
      "1     10600\n",
      "2    178100\n",
      "3     14000\n",
      "Name: Price, dtype: int64\n"
     ]
    }
   ],
   "source": [
    "for column in data.columns:\n",
    "    print(f\"Column name: {column}\")\n",
    "    print(data[column])"
   ]
  },
  {
   "cell_type": "code",
   "execution_count": null,
   "metadata": {},
   "outputs": [],
   "source": []
  },
  {
   "cell_type": "code",
   "execution_count": 51,
   "metadata": {},
   "outputs": [
    {
     "name": "stdout",
     "output_type": "stream",
     "text": [
      "{'numRooms': 2, 'Alley': 3, 'Price': 0}\n"
     ]
    }
   ],
   "source": [
    "tmp_data = {}\n",
    "for item, data1 in data.items():\n",
    "    count = 0\n",
    "    for t, d in data1.items():\n",
    "        # 判断是不是na\n",
    "        if pd.isna(d):\n",
    "            count += 1\n",
    "    tmp_data[item] = count\n",
    "\n",
    "print(tmp_data)"
   ]
  },
  {
   "cell_type": "code",
   "execution_count": 57,
   "metadata": {},
   "outputs": [
    {
     "name": "stdout",
     "output_type": "stream",
     "text": [
      "3\n",
      "Alley\n"
     ]
    }
   ],
   "source": [
    "max_value = max(tmp_data.values())\n",
    "print(max_value)\n",
    "# 根据max_value获取列名\n",
    "max_key = max(tmp_data, key=tmp_data.get)\n",
    "print(max_key)"
   ]
  },
  {
   "cell_type": "code",
   "execution_count": 58,
   "metadata": {},
   "outputs": [
    {
     "name": "stdout",
     "output_type": "stream",
     "text": [
      "   numRooms   Price\n",
      "0       NaN  127500\n",
      "1       2.0   10600\n",
      "2       4.0  178100\n"
     ]
    }
   ],
   "source": [
    "data.drop(columns=max_key, inplace=True)\n",
    "print(data)"
   ]
  },
  {
   "cell_type": "code",
   "execution_count": 59,
   "metadata": {},
   "outputs": [
    {
     "name": "stdout",
     "output_type": "stream",
     "text": [
      "tf.Tensor(\n",
      "[[      nan 1.275e+05]\n",
      " [2.000e+00 1.060e+04]\n",
      " [4.000e+00 1.781e+05]], shape=(3, 2), dtype=float32)\n"
     ]
    }
   ],
   "source": [
    "t_t = tf.constant(data.to_numpy(), dtype=tf.float32)\n",
    "print(t_t)"
   ]
  },
  {
   "cell_type": "code",
   "execution_count": null,
   "metadata": {},
   "outputs": [],
   "source": []
  }
 ],
 "metadata": {
  "kernelspec": {
   "display_name": "venv",
   "language": "python",
   "name": "python3"
  },
  "language_info": {
   "codemirror_mode": {
    "name": "ipython",
    "version": 3
   },
   "file_extension": ".py",
   "mimetype": "text/x-python",
   "name": "python",
   "nbconvert_exporter": "python",
   "pygments_lexer": "ipython3",
   "version": "3.10.13"
  }
 },
 "nbformat": 4,
 "nbformat_minor": 2
}
