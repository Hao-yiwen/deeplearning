{
 "cells": [
  {
   "cell_type": "markdown",
   "metadata": {},
   "source": [
    "# 注意力机制"
   ]
  },
  {
   "cell_type": "code",
   "execution_count": 1,
   "metadata": {},
   "outputs": [
    {
     "name": "stdout",
     "output_type": "stream",
     "text": [
      "原始分数: tensor([[8., 4.]])\n",
      "缩放后的分数: tensor([[5.6569, 2.8284]])\n",
      "注意力权重: tensor([[0.9442, 0.0558]])\n"
     ]
    }
   ],
   "source": [
    "import torch\n",
    "\n",
    "# 创建一个简单的例子\n",
    "def simple_attention_example():\n",
    "    # 创建查询和键向量\n",
    "    query = torch.tensor([[2.0, 3.0]])  # 1x2\n",
    "    key = torch.tensor([[1.0, 2.0],\n",
    "                       [0.5, 1.0]])      # 2x2\n",
    "    \n",
    "    # 计算注意力分数\n",
    "    scores = torch.matmul(query, key.T)  # 1x2\n",
    "    print(\"原始分数:\", scores)\n",
    "    \n",
    "    # 缩放\n",
    "    d_k = query.size(-1)  # = 2\n",
    "    scaled_scores = scores / torch.sqrt(torch.tensor(d_k).float())\n",
    "    print(\"缩放后的分数:\", scaled_scores)\n",
    "    \n",
    "    # 应用softmax\n",
    "    attention_weights = torch.nn.functional.softmax(scaled_scores, dim=-1)\n",
    "    print(\"注意力权重:\", attention_weights)\n",
    "    \n",
    "    return attention_weights\n",
    "\n",
    "# 运行示例\n",
    "attention_weights = simple_attention_example()"
   ]
  },
  {
   "cell_type": "code",
   "execution_count": null,
   "metadata": {},
   "outputs": [],
   "source": []
  },
  {
   "cell_type": "code",
   "execution_count": null,
   "metadata": {},
   "outputs": [],
   "source": []
  }
 ],
 "metadata": {
  "kernelspec": {
   "display_name": "venv",
   "language": "python",
   "name": "python3"
  },
  "language_info": {
   "codemirror_mode": {
    "name": "ipython",
    "version": 3
   },
   "file_extension": ".py",
   "mimetype": "text/x-python",
   "name": "python",
   "nbconvert_exporter": "python",
   "pygments_lexer": "ipython3",
   "version": "3.9.6"
  }
 },
 "nbformat": 4,
 "nbformat_minor": 2
}
